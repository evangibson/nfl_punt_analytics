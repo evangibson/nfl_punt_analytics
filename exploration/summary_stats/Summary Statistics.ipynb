{
 "cells": [
  {
   "cell_type": "code",
   "execution_count": 1,
   "metadata": {},
   "outputs": [],
   "source": [
    "import pandas as pd\n",
    "import seaborn as sns\n",
    "sns.set(style=\"whitegrid\")\n",
    "\n",
    "import feather\n",
    "import os\n",
    "\n",
    "kag_dir = \"B:\\\\kaggle_nfl\\\\all\""
   ]
  },
  {
   "cell_type": "code",
   "execution_count": 2,
   "metadata": {},
   "outputs": [
    {
     "data": {
      "text/html": [
       "<div>\n",
       "<style scoped>\n",
       "    .dataframe tbody tr th:only-of-type {\n",
       "        vertical-align: middle;\n",
       "    }\n",
       "\n",
       "    .dataframe tbody tr th {\n",
       "        vertical-align: top;\n",
       "    }\n",
       "\n",
       "    .dataframe thead th {\n",
       "        text-align: right;\n",
       "    }\n",
       "</style>\n",
       "<table border=\"1\" class=\"dataframe\">\n",
       "  <thead>\n",
       "    <tr style=\"text-align: right;\">\n",
       "      <th></th>\n",
       "      <th>GameKey</th>\n",
       "      <th>Season_Year</th>\n",
       "      <th>Season_Type</th>\n",
       "      <th>Week</th>\n",
       "      <th>Game_Date</th>\n",
       "      <th>Game_Day</th>\n",
       "      <th>Game_Site</th>\n",
       "      <th>Start_Time</th>\n",
       "      <th>Home_Team</th>\n",
       "      <th>HomeTeamCode</th>\n",
       "      <th>Visit_Team</th>\n",
       "      <th>VisitTeamCode</th>\n",
       "      <th>Stadium</th>\n",
       "      <th>StadiumType</th>\n",
       "      <th>Turf</th>\n",
       "      <th>GameWeather</th>\n",
       "      <th>Temperature</th>\n",
       "      <th>OutdoorWeather</th>\n",
       "    </tr>\n",
       "  </thead>\n",
       "  <tbody>\n",
       "    <tr>\n",
       "      <th>0</th>\n",
       "      <td>1</td>\n",
       "      <td>2016</td>\n",
       "      <td>Pre</td>\n",
       "      <td>1</td>\n",
       "      <td>2016-08-07 00:00:00.000</td>\n",
       "      <td>Sunday</td>\n",
       "      <td>Indianapolis</td>\n",
       "      <td>20:00</td>\n",
       "      <td>Indianapolis Colts</td>\n",
       "      <td>IND</td>\n",
       "      <td>Green Bay Packers</td>\n",
       "      <td>GB</td>\n",
       "      <td>Tom Benson Hall of Fame Stadium</td>\n",
       "      <td>Outdoor</td>\n",
       "      <td>Turf</td>\n",
       "      <td>NaN</td>\n",
       "      <td>NaN</td>\n",
       "      <td>NaN</td>\n",
       "    </tr>\n",
       "    <tr>\n",
       "      <th>1</th>\n",
       "      <td>2</td>\n",
       "      <td>2016</td>\n",
       "      <td>Pre</td>\n",
       "      <td>2</td>\n",
       "      <td>2016-08-13 00:00:00.000</td>\n",
       "      <td>Saturday</td>\n",
       "      <td>Los Angeles</td>\n",
       "      <td>17:00</td>\n",
       "      <td>Los Angeles Rams</td>\n",
       "      <td>LA</td>\n",
       "      <td>Dallas Cowboys</td>\n",
       "      <td>DAL</td>\n",
       "      <td>Los  Angeles Memorial Coliseum</td>\n",
       "      <td>Outdoor</td>\n",
       "      <td>Grass</td>\n",
       "      <td>Sunny</td>\n",
       "      <td>79.0</td>\n",
       "      <td>Sunny</td>\n",
       "    </tr>\n",
       "    <tr>\n",
       "      <th>2</th>\n",
       "      <td>3</td>\n",
       "      <td>2016</td>\n",
       "      <td>Pre</td>\n",
       "      <td>2</td>\n",
       "      <td>2016-08-11 00:00:00.000</td>\n",
       "      <td>Thursday</td>\n",
       "      <td>Baltimore</td>\n",
       "      <td>19:30</td>\n",
       "      <td>Baltimore Ravens</td>\n",
       "      <td>BLT</td>\n",
       "      <td>Carolina Panthers</td>\n",
       "      <td>CAR</td>\n",
       "      <td>M&amp;T Bank Stadium</td>\n",
       "      <td>Outdoor</td>\n",
       "      <td>Natural Grass</td>\n",
       "      <td>Party Cloudy</td>\n",
       "      <td>94.0</td>\n",
       "      <td>Partly Cloudy</td>\n",
       "    </tr>\n",
       "    <tr>\n",
       "      <th>3</th>\n",
       "      <td>4</td>\n",
       "      <td>2016</td>\n",
       "      <td>Pre</td>\n",
       "      <td>2</td>\n",
       "      <td>2016-08-12 00:00:00.000</td>\n",
       "      <td>Friday</td>\n",
       "      <td>Green Bay</td>\n",
       "      <td>19:00</td>\n",
       "      <td>Green Bay Packers</td>\n",
       "      <td>GB</td>\n",
       "      <td>Cleveland Browns</td>\n",
       "      <td>CLV</td>\n",
       "      <td>Lambeau Field</td>\n",
       "      <td>Outdoor</td>\n",
       "      <td>DD GrassMaster</td>\n",
       "      <td>NaN</td>\n",
       "      <td>73.0</td>\n",
       "      <td>NaN</td>\n",
       "    </tr>\n",
       "    <tr>\n",
       "      <th>4</th>\n",
       "      <td>5</td>\n",
       "      <td>2016</td>\n",
       "      <td>Pre</td>\n",
       "      <td>2</td>\n",
       "      <td>2016-08-11 00:00:00.000</td>\n",
       "      <td>Thursday</td>\n",
       "      <td>Chicago</td>\n",
       "      <td>19:00</td>\n",
       "      <td>Chicago Bears</td>\n",
       "      <td>CHI</td>\n",
       "      <td>Denver Broncos</td>\n",
       "      <td>DEN</td>\n",
       "      <td>Soldier Field</td>\n",
       "      <td>Outdoor</td>\n",
       "      <td>Grass</td>\n",
       "      <td>Partly Cloudy, Chance of Rain 80%</td>\n",
       "      <td>88.0</td>\n",
       "      <td>NaN</td>\n",
       "    </tr>\n",
       "  </tbody>\n",
       "</table>\n",
       "</div>"
      ],
      "text/plain": [
       "   GameKey  Season_Year Season_Type  Week                Game_Date  Game_Day  \\\n",
       "0        1         2016         Pre     1  2016-08-07 00:00:00.000    Sunday   \n",
       "1        2         2016         Pre     2  2016-08-13 00:00:00.000  Saturday   \n",
       "2        3         2016         Pre     2  2016-08-11 00:00:00.000  Thursday   \n",
       "3        4         2016         Pre     2  2016-08-12 00:00:00.000    Friday   \n",
       "4        5         2016         Pre     2  2016-08-11 00:00:00.000  Thursday   \n",
       "\n",
       "      Game_Site Start_Time           Home_Team HomeTeamCode  \\\n",
       "0  Indianapolis      20:00  Indianapolis Colts          IND   \n",
       "1   Los Angeles      17:00    Los Angeles Rams           LA   \n",
       "2     Baltimore      19:30    Baltimore Ravens          BLT   \n",
       "3     Green Bay      19:00   Green Bay Packers           GB   \n",
       "4       Chicago      19:00       Chicago Bears          CHI   \n",
       "\n",
       "          Visit_Team VisitTeamCode                          Stadium  \\\n",
       "0  Green Bay Packers            GB  Tom Benson Hall of Fame Stadium   \n",
       "1     Dallas Cowboys           DAL   Los  Angeles Memorial Coliseum   \n",
       "2  Carolina Panthers           CAR                 M&T Bank Stadium   \n",
       "3   Cleveland Browns           CLV                    Lambeau Field   \n",
       "4     Denver Broncos           DEN                    Soldier Field   \n",
       "\n",
       "  StadiumType            Turf                        GameWeather  Temperature  \\\n",
       "0     Outdoor            Turf                                NaN          NaN   \n",
       "1     Outdoor           Grass                              Sunny         79.0   \n",
       "2     Outdoor   Natural Grass                       Party Cloudy         94.0   \n",
       "3     Outdoor  DD GrassMaster                                NaN         73.0   \n",
       "4     Outdoor           Grass  Partly Cloudy, Chance of Rain 80%         88.0   \n",
       "\n",
       "  OutdoorWeather  \n",
       "0            NaN  \n",
       "1          Sunny  \n",
       "2  Partly Cloudy  \n",
       "3            NaN  \n",
       "4            NaN  "
      ]
     },
     "execution_count": 2,
     "metadata": {},
     "output_type": "execute_result"
    }
   ],
   "source": [
    "df = pd.read_csv(os.path.join(kag_dir, \"game_data.csv\"))\n",
    "df.head()"
   ]
  },
  {
   "cell_type": "code",
   "execution_count": 3,
   "metadata": {},
   "outputs": [
    {
     "data": {
      "text/plain": [
       "(666, 18)"
      ]
     },
     "execution_count": 3,
     "metadata": {},
     "output_type": "execute_result"
    }
   ],
   "source": [
    "#Overall, there are 666 games in our data\n",
    "df.shape"
   ]
  },
  {
   "cell_type": "code",
   "execution_count": 4,
   "metadata": {},
   "outputs": [
    {
     "data": {
      "text/html": [
       "<div>\n",
       "<style scoped>\n",
       "    .dataframe tbody tr th:only-of-type {\n",
       "        vertical-align: middle;\n",
       "    }\n",
       "\n",
       "    .dataframe tbody tr th {\n",
       "        vertical-align: top;\n",
       "    }\n",
       "\n",
       "    .dataframe thead th {\n",
       "        text-align: right;\n",
       "    }\n",
       "</style>\n",
       "<table border=\"1\" class=\"dataframe\">\n",
       "  <thead>\n",
       "    <tr style=\"text-align: right;\">\n",
       "      <th></th>\n",
       "      <th>GameKey</th>\n",
       "      <th>Season_Year</th>\n",
       "      <th>Week</th>\n",
       "      <th>Temperature</th>\n",
       "    </tr>\n",
       "  </thead>\n",
       "  <tbody>\n",
       "    <tr>\n",
       "      <th>count</th>\n",
       "      <td>666.000000</td>\n",
       "      <td>666.000000</td>\n",
       "      <td>666.000000</td>\n",
       "      <td>600.000000</td>\n",
       "    </tr>\n",
       "    <tr>\n",
       "      <th>mean</th>\n",
       "      <td>333.500000</td>\n",
       "      <td>2016.500000</td>\n",
       "      <td>7.723724</td>\n",
       "      <td>64.131667</td>\n",
       "    </tr>\n",
       "    <tr>\n",
       "      <th>std</th>\n",
       "      <td>192.401923</td>\n",
       "      <td>0.500376</td>\n",
       "      <td>5.060709</td>\n",
       "      <td>18.563818</td>\n",
       "    </tr>\n",
       "    <tr>\n",
       "      <th>min</th>\n",
       "      <td>1.000000</td>\n",
       "      <td>2016.000000</td>\n",
       "      <td>1.000000</td>\n",
       "      <td>1.000000</td>\n",
       "    </tr>\n",
       "    <tr>\n",
       "      <th>25%</th>\n",
       "      <td>167.250000</td>\n",
       "      <td>2016.000000</td>\n",
       "      <td>3.000000</td>\n",
       "      <td>54.000000</td>\n",
       "    </tr>\n",
       "    <tr>\n",
       "      <th>50%</th>\n",
       "      <td>333.500000</td>\n",
       "      <td>2016.500000</td>\n",
       "      <td>6.000000</td>\n",
       "      <td>68.000000</td>\n",
       "    </tr>\n",
       "    <tr>\n",
       "      <th>75%</th>\n",
       "      <td>499.750000</td>\n",
       "      <td>2017.000000</td>\n",
       "      <td>12.000000</td>\n",
       "      <td>78.250000</td>\n",
       "    </tr>\n",
       "    <tr>\n",
       "      <th>max</th>\n",
       "      <td>666.000000</td>\n",
       "      <td>2017.000000</td>\n",
       "      <td>17.000000</td>\n",
       "      <td>97.000000</td>\n",
       "    </tr>\n",
       "  </tbody>\n",
       "</table>\n",
       "</div>"
      ],
      "text/plain": [
       "          GameKey  Season_Year        Week  Temperature\n",
       "count  666.000000   666.000000  666.000000   600.000000\n",
       "mean   333.500000  2016.500000    7.723724    64.131667\n",
       "std    192.401923     0.500376    5.060709    18.563818\n",
       "min      1.000000  2016.000000    1.000000     1.000000\n",
       "25%    167.250000  2016.000000    3.000000    54.000000\n",
       "50%    333.500000  2016.500000    6.000000    68.000000\n",
       "75%    499.750000  2017.000000   12.000000    78.250000\n",
       "max    666.000000  2017.000000   17.000000    97.000000"
      ]
     },
     "execution_count": 4,
     "metadata": {},
     "output_type": "execute_result"
    }
   ],
   "source": [
    "df.describe()"
   ]
  },
  {
   "cell_type": "code",
   "execution_count": 7,
   "metadata": {},
   "outputs": [
    {
     "data": {
      "image/png": "[encoded data removed]",
      "text/plain": [
       "<Figure size 432x288 with 1 Axes>"
      ]
     },
     "metadata": {},
     "output_type": "display_data"
    }
   ],
   "source": [
    "# For this set (in isolation), we mostly just want to confirm that our games between season have the same characteristics\n",
    "\n",
    "# number of games per season\n",
    "ax= sns.countplot(x=\"Season_Year\", data=df)"
   ]
  },
  {
   "cell_type": "code",
   "execution_count": 8,
   "metadata": {},
   "outputs": [
    {
     "data": {
      "image/png": "[encoded data removed]",
      "text/plain": [
       "<Figure size 432x288 with 1 Axes>"
      ]
     },
     "metadata": {},
     "output_type": "display_data"
    }
   ],
   "source": [
    "# Number of games in each season subset\n",
    "ax= sns.countplot(x=\"Season_Type\", data=df)"
   ]
  },
  {
   "cell_type": "code",
   "execution_count": 5,
   "metadata": {},
   "outputs": [
    {
     "data": {
      "image/png": "[encoded data removed]",
      "text/plain": [
       "<Figure size 432x288 with 1 Axes>"
      ]
     },
     "metadata": {},
     "output_type": "display_data"
    }
   ],
   "source": [
    "#Games in each season by season subset\n",
    "ax= sns.countplot(x=\"Season_Year\", hue=\"Season_Type\", data=df)"
   ]
  },
  {
   "cell_type": "code",
   "execution_count": 12,
   "metadata": {},
   "outputs": [
    {
     "data": {
      "image/png": "[encoded data removed]",
      "text/plain": [
       "<Figure size 432x288 with 1 Axes>"
      ]
     },
     "metadata": {},
     "output_type": "display_data"
    }
   ],
   "source": [
    "#Games per week by season\n",
    "ax= sns.countplot(hue=\"Season_Year\",x=\"Week\", data=df)"
   ]
  },
  {
   "cell_type": "code",
   "execution_count": 18,
   "metadata": {},
   "outputs": [
    {
     "data": {
      "text/plain": [
       "<matplotlib.axes._subplots.AxesSubplot at 0x2691c2d11d0>"
      ]
     },
     "execution_count": 18,
     "metadata": {},
     "output_type": "execute_result"
    },
    {
     "data": {
      "image/png": "[encoded data removed]",
      "text/plain": [
       "<Figure size 432x288 with 1 Axes>"
      ]
     },
     "metadata": {},
     "output_type": "display_data"
    }
   ],
   "source": [
    "#Temperature as the weeks go on in each season\n",
    "\n",
    "sns.lineplot(x=\"Week\", y=\"Temperature\",\n",
    "             hue=\"Season_Year\",\n",
    "             data=df)"
   ]
  },
  {
   "cell_type": "code",
   "execution_count": 19,
   "metadata": {},
   "outputs": [
    {
     "data": {
      "image/png": "[encoded data removed]",
      "text/plain": [
       "<Figure size 432x288 with 1 Axes>"
      ]
     },
     "metadata": {},
     "output_type": "display_data"
    }
   ],
   "source": [
    "#\n",
    "sns.boxplot(x=\"Season_Type\", y=\"Temperature\",\n",
    "            hue=\"Season_Year\", palette=[\"m\", \"g\"],\n",
    "            data=df)\n",
    "sns.despine(offset=10, trim=True)"
   ]
  },
  {
   "cell_type": "markdown",
   "metadata": {},
   "source": [
    "## At this point, I bring in the video review data to evaluate the characteristics of plays that contain concussions"
   ]
  },
  {
   "cell_type": "code",
   "execution_count": 21,
   "metadata": {},
   "outputs": [
    {
     "data": {
      "text/html": [
       "<div>\n",
       "<style scoped>\n",
       "    .dataframe tbody tr th:only-of-type {\n",
       "        vertical-align: middle;\n",
       "    }\n",
       "\n",
       "    .dataframe tbody tr th {\n",
       "        vertical-align: top;\n",
       "    }\n",
       "\n",
       "    .dataframe thead th {\n",
       "        text-align: right;\n",
       "    }\n",
       "</style>\n",
       "<table border=\"1\" class=\"dataframe\">\n",
       "  <thead>\n",
       "    <tr style=\"text-align: right;\">\n",
       "      <th></th>\n",
       "      <th>Season_Year</th>\n",
       "      <th>GameKey</th>\n",
       "      <th>PlayID</th>\n",
       "      <th>GSISID</th>\n",
       "      <th>Player_Activity_Derived</th>\n",
       "      <th>Turnover_Related</th>\n",
       "      <th>Primary_Impact_Type</th>\n",
       "      <th>Primary_Partner_GSISID</th>\n",
       "      <th>Primary_Partner_Activity_Derived</th>\n",
       "      <th>Friendly_Fire</th>\n",
       "      <th>season</th>\n",
       "      <th>Type</th>\n",
       "      <th>Week</th>\n",
       "      <th>Home_team</th>\n",
       "      <th>Visit_Team</th>\n",
       "      <th>Qtr</th>\n",
       "      <th>PlayDescription</th>\n",
       "      <th>gamekey</th>\n",
       "      <th>playid</th>\n",
       "      <th>PREVIEW LINK (5000K)</th>\n",
       "    </tr>\n",
       "  </thead>\n",
       "  <tbody>\n",
       "    <tr>\n",
       "      <th>0</th>\n",
       "      <td>2016</td>\n",
       "      <td>5</td>\n",
       "      <td>3129</td>\n",
       "      <td>31057</td>\n",
       "      <td>Tackling</td>\n",
       "      <td>No</td>\n",
       "      <td>Helmet-to-body</td>\n",
       "      <td>32482</td>\n",
       "      <td>Tackled</td>\n",
       "      <td>No</td>\n",
       "      <td>2016</td>\n",
       "      <td>Pre</td>\n",
       "      <td>2</td>\n",
       "      <td>Chicago Bears</td>\n",
       "      <td>Denver Broncos</td>\n",
       "      <td>3</td>\n",
       "      <td>(3:44) (Punt formation) P.O'Donnell punts 58 y...</td>\n",
       "      <td>5</td>\n",
       "      <td>3129</td>\n",
       "      <td>http://a.video.nfl.com//films/vodzilla/153233/...</td>\n",
       "    </tr>\n",
       "    <tr>\n",
       "      <th>1</th>\n",
       "      <td>2016</td>\n",
       "      <td>21</td>\n",
       "      <td>2587</td>\n",
       "      <td>29343</td>\n",
       "      <td>Blocked</td>\n",
       "      <td>No</td>\n",
       "      <td>Helmet-to-helmet</td>\n",
       "      <td>31059</td>\n",
       "      <td>Blocking</td>\n",
       "      <td>No</td>\n",
       "      <td>2016</td>\n",
       "      <td>Pre</td>\n",
       "      <td>3</td>\n",
       "      <td>Tennessee Titans</td>\n",
       "      <td>Carolina Panthers</td>\n",
       "      <td>3</td>\n",
       "      <td>(5:52) (Punt formation) K.Redfern punts 36 yar...</td>\n",
       "      <td>21</td>\n",
       "      <td>2587</td>\n",
       "      <td>http://a.video.nfl.com//films/vodzilla/153234/...</td>\n",
       "    </tr>\n",
       "    <tr>\n",
       "      <th>2</th>\n",
       "      <td>2016</td>\n",
       "      <td>29</td>\n",
       "      <td>538</td>\n",
       "      <td>31023</td>\n",
       "      <td>Tackling</td>\n",
       "      <td>No</td>\n",
       "      <td>Helmet-to-body</td>\n",
       "      <td>31941</td>\n",
       "      <td>Tackled</td>\n",
       "      <td>No</td>\n",
       "      <td>2016</td>\n",
       "      <td>Pre</td>\n",
       "      <td>3</td>\n",
       "      <td>Washington Redskins</td>\n",
       "      <td>New York Jets</td>\n",
       "      <td>1</td>\n",
       "      <td>(4:46) L.Edwards punts 51 yards to WAS 27, Cen...</td>\n",
       "      <td>29</td>\n",
       "      <td>538</td>\n",
       "      <td>http://a.video.nfl.com//films/vodzilla/153235/...</td>\n",
       "    </tr>\n",
       "    <tr>\n",
       "      <th>3</th>\n",
       "      <td>2016</td>\n",
       "      <td>45</td>\n",
       "      <td>1212</td>\n",
       "      <td>33121</td>\n",
       "      <td>Tackling</td>\n",
       "      <td>No</td>\n",
       "      <td>Helmet-to-body</td>\n",
       "      <td>28249</td>\n",
       "      <td>Tackled</td>\n",
       "      <td>No</td>\n",
       "      <td>2016</td>\n",
       "      <td>Pre</td>\n",
       "      <td>4</td>\n",
       "      <td>New York Jets</td>\n",
       "      <td>New York Giants</td>\n",
       "      <td>2</td>\n",
       "      <td>(8:29) B.Wing punts 44 yards to NYJ 10, Center...</td>\n",
       "      <td>45</td>\n",
       "      <td>1212</td>\n",
       "      <td>http://a.video.nfl.com//films/vodzilla/153236/...</td>\n",
       "    </tr>\n",
       "    <tr>\n",
       "      <th>4</th>\n",
       "      <td>2016</td>\n",
       "      <td>54</td>\n",
       "      <td>1045</td>\n",
       "      <td>32444</td>\n",
       "      <td>Blocked</td>\n",
       "      <td>No</td>\n",
       "      <td>Helmet-to-body</td>\n",
       "      <td>31756</td>\n",
       "      <td>Blocked</td>\n",
       "      <td>Yes</td>\n",
       "      <td>2016</td>\n",
       "      <td>Pre</td>\n",
       "      <td>5</td>\n",
       "      <td>Detroit Lions</td>\n",
       "      <td>Buffalo Bills</td>\n",
       "      <td>1</td>\n",
       "      <td>(:38) C.Schmidt punts 46 yards to DET 8, Cente...</td>\n",
       "      <td>60</td>\n",
       "      <td>905</td>\n",
       "      <td>http://a.video.nfl.com//films/vodzilla/153237/...</td>\n",
       "    </tr>\n",
       "  </tbody>\n",
       "</table>\n",
       "</div>"
      ],
      "text/plain": [
       "   Season_Year  GameKey  PlayID  GSISID Player_Activity_Derived  \\\n",
       "0         2016        5    3129   31057                Tackling   \n",
       "1         2016       21    2587   29343                 Blocked   \n",
       "2         2016       29     538   31023                Tackling   \n",
       "3         2016       45    1212   33121                Tackling   \n",
       "4         2016       54    1045   32444                 Blocked   \n",
       "\n",
       "  Turnover_Related Primary_Impact_Type Primary_Partner_GSISID  \\\n",
       "0               No      Helmet-to-body                  32482   \n",
       "1               No    Helmet-to-helmet                  31059   \n",
       "2               No      Helmet-to-body                  31941   \n",
       "3               No      Helmet-to-body                  28249   \n",
       "4               No      Helmet-to-body                  31756   \n",
       "\n",
       "  Primary_Partner_Activity_Derived Friendly_Fire  season Type  Week  \\\n",
       "0                          Tackled            No    2016  Pre     2   \n",
       "1                         Blocking            No    2016  Pre     3   \n",
       "2                          Tackled            No    2016  Pre     3   \n",
       "3                          Tackled            No    2016  Pre     4   \n",
       "4                          Blocked           Yes    2016  Pre     5   \n",
       "\n",
       "             Home_team         Visit_Team  Qtr  \\\n",
       "0        Chicago Bears     Denver Broncos    3   \n",
       "1     Tennessee Titans  Carolina Panthers    3   \n",
       "2  Washington Redskins      New York Jets    1   \n",
       "3        New York Jets    New York Giants    2   \n",
       "4        Detroit Lions      Buffalo Bills    1   \n",
       "\n",
       "                                     PlayDescription  gamekey  playid  \\\n",
       "0  (3:44) (Punt formation) P.O'Donnell punts 58 y...        5    3129   \n",
       "1  (5:52) (Punt formation) K.Redfern punts 36 yar...       21    2587   \n",
       "2  (4:46) L.Edwards punts 51 yards to WAS 27, Cen...       29     538   \n",
       "3  (8:29) B.Wing punts 44 yards to NYJ 10, Center...       45    1212   \n",
       "4  (:38) C.Schmidt punts 46 yards to DET 8, Cente...       60     905   \n",
       "\n",
       "                                PREVIEW LINK (5000K)  \n",
       "0  http://a.video.nfl.com//films/vodzilla/153233/...  \n",
       "1  http://a.video.nfl.com//films/vodzilla/153234/...  \n",
       "2  http://a.video.nfl.com//films/vodzilla/153235/...  \n",
       "3  http://a.video.nfl.com//films/vodzilla/153236/...  \n",
       "4  http://a.video.nfl.com//films/vodzilla/153237/...  "
      ]
     },
     "execution_count": 21,
     "metadata": {},
     "output_type": "execute_result"
    }
   ],
   "source": [
    "df2 = pd.read_csv(os.path.join(kag_dir, \"video_review.csv\"))\n",
    "df2.head()"
   ]
  },
  {
   "cell_type": "code",
   "execution_count": 31,
   "metadata": {},
   "outputs": [
    {
     "data": {
      "text/html": [
       "<div>\n",
       "<style scoped>\n",
       "    .dataframe tbody tr th:only-of-type {\n",
       "        vertical-align: middle;\n",
       "    }\n",
       "\n",
       "    .dataframe tbody tr th {\n",
       "        vertical-align: top;\n",
       "    }\n",
       "\n",
       "    .dataframe thead th {\n",
       "        text-align: right;\n",
       "    }\n",
       "</style>\n",
       "<table border=\"1\" class=\"dataframe\">\n",
       "  <thead>\n",
       "    <tr style=\"text-align: right;\">\n",
       "      <th></th>\n",
       "      <th>Season_Year</th>\n",
       "      <th>GameKey</th>\n",
       "      <th>PlayID</th>\n",
       "      <th>GSISID</th>\n",
       "      <th>season</th>\n",
       "      <th>Week</th>\n",
       "      <th>Qtr</th>\n",
       "      <th>gamekey</th>\n",
       "      <th>playid</th>\n",
       "    </tr>\n",
       "  </thead>\n",
       "  <tbody>\n",
       "    <tr>\n",
       "      <th>count</th>\n",
       "      <td>37.000000</td>\n",
       "      <td>37.000000</td>\n",
       "      <td>37.000000</td>\n",
       "      <td>37.000000</td>\n",
       "      <td>37.000000</td>\n",
       "      <td>37.000000</td>\n",
       "      <td>37.000000</td>\n",
       "      <td>37.000000</td>\n",
       "      <td>37.000000</td>\n",
       "    </tr>\n",
       "    <tr>\n",
       "      <th>mean</th>\n",
       "      <td>2016.486486</td>\n",
       "      <td>323.216216</td>\n",
       "      <td>2185.675676</td>\n",
       "      <td>30642.135135</td>\n",
       "      <td>2016.486486</td>\n",
       "      <td>8.621622</td>\n",
       "      <td>2.621622</td>\n",
       "      <td>323.216216</td>\n",
       "      <td>2185.675676</td>\n",
       "    </tr>\n",
       "    <tr>\n",
       "      <th>std</th>\n",
       "      <td>0.506712</td>\n",
       "      <td>183.869842</td>\n",
       "      <td>1036.877981</td>\n",
       "      <td>2685.009964</td>\n",
       "      <td>0.506712</td>\n",
       "      <td>5.095485</td>\n",
       "      <td>0.953105</td>\n",
       "      <td>183.869842</td>\n",
       "      <td>1036.877981</td>\n",
       "    </tr>\n",
       "    <tr>\n",
       "      <th>min</th>\n",
       "      <td>2016.000000</td>\n",
       "      <td>5.000000</td>\n",
       "      <td>183.000000</td>\n",
       "      <td>23564.000000</td>\n",
       "      <td>2016.000000</td>\n",
       "      <td>1.000000</td>\n",
       "      <td>1.000000</td>\n",
       "      <td>5.000000</td>\n",
       "      <td>183.000000</td>\n",
       "    </tr>\n",
       "    <tr>\n",
       "      <th>25%</th>\n",
       "      <td>2016.000000</td>\n",
       "      <td>218.000000</td>\n",
       "      <td>1262.000000</td>\n",
       "      <td>28987.000000</td>\n",
       "      <td>2016.000000</td>\n",
       "      <td>4.000000</td>\n",
       "      <td>2.000000</td>\n",
       "      <td>218.000000</td>\n",
       "      <td>1262.000000</td>\n",
       "    </tr>\n",
       "    <tr>\n",
       "      <th>50%</th>\n",
       "      <td>2016.000000</td>\n",
       "      <td>296.000000</td>\n",
       "      <td>2341.000000</td>\n",
       "      <td>31313.000000</td>\n",
       "      <td>2016.000000</td>\n",
       "      <td>8.000000</td>\n",
       "      <td>3.000000</td>\n",
       "      <td>296.000000</td>\n",
       "      <td>2341.000000</td>\n",
       "    </tr>\n",
       "    <tr>\n",
       "      <th>75%</th>\n",
       "      <td>2017.000000</td>\n",
       "      <td>448.000000</td>\n",
       "      <td>2918.000000</td>\n",
       "      <td>32615.000000</td>\n",
       "      <td>2017.000000</td>\n",
       "      <td>14.000000</td>\n",
       "      <td>3.000000</td>\n",
       "      <td>448.000000</td>\n",
       "      <td>2918.000000</td>\n",
       "    </tr>\n",
       "    <tr>\n",
       "      <th>max</th>\n",
       "      <td>2017.000000</td>\n",
       "      <td>618.000000</td>\n",
       "      <td>3746.000000</td>\n",
       "      <td>33941.000000</td>\n",
       "      <td>2017.000000</td>\n",
       "      <td>16.000000</td>\n",
       "      <td>4.000000</td>\n",
       "      <td>618.000000</td>\n",
       "      <td>3746.000000</td>\n",
       "    </tr>\n",
       "  </tbody>\n",
       "</table>\n",
       "</div>"
      ],
      "text/plain": [
       "       Season_Year     GameKey       PlayID        GSISID       season  \\\n",
       "count    37.000000   37.000000    37.000000     37.000000    37.000000   \n",
       "mean   2016.486486  323.216216  2185.675676  30642.135135  2016.486486   \n",
       "std       0.506712  183.869842  1036.877981   2685.009964     0.506712   \n",
       "min    2016.000000    5.000000   183.000000  23564.000000  2016.000000   \n",
       "25%    2016.000000  218.000000  1262.000000  28987.000000  2016.000000   \n",
       "50%    2016.000000  296.000000  2341.000000  31313.000000  2016.000000   \n",
       "75%    2017.000000  448.000000  2918.000000  32615.000000  2017.000000   \n",
       "max    2017.000000  618.000000  3746.000000  33941.000000  2017.000000   \n",
       "\n",
       "            Week        Qtr     gamekey       playid  \n",
       "count  37.000000  37.000000   37.000000    37.000000  \n",
       "mean    8.621622   2.621622  323.216216  2185.675676  \n",
       "std     5.095485   0.953105  183.869842  1036.877981  \n",
       "min     1.000000   1.000000    5.000000   183.000000  \n",
       "25%     4.000000   2.000000  218.000000  1262.000000  \n",
       "50%     8.000000   3.000000  296.000000  2341.000000  \n",
       "75%    14.000000   3.000000  448.000000  2918.000000  \n",
       "max    16.000000   4.000000  618.000000  3746.000000  "
      ]
     },
     "execution_count": 31,
     "metadata": {},
     "output_type": "execute_result"
    }
   ],
   "source": [
    "df2.describe()"
   ]
  },
  {
   "cell_type": "code",
   "execution_count": 22,
   "metadata": {},
   "outputs": [
    {
     "data": {
      "image/png": "[encoded data removed]",
      "text/plain": [
       "<Figure size 432x288 with 1 Axes>"
      ]
     },
     "metadata": {},
     "output_type": "display_data"
    }
   ],
   "source": [
    "#Countplot for player activity when concussion occurs\n",
    "ax = sns.countplot(x=\"Player_Activity_Derived\", data=df2)"
   ]
  },
  {
   "cell_type": "code",
   "execution_count": 23,
   "metadata": {},
   "outputs": [
    {
     "data": {
      "image/png": "[encoded data removed]",
      "text/plain": [
       "<Figure size 432x288 with 1 Axes>"
      ]
     },
     "metadata": {},
     "output_type": "display_data"
    }
   ],
   "source": [
    "#Countplot for impact type when concussion occurs\n",
    "ax = sns.countplot(x=\"Primary_Impact_Type\", data=df2)"
   ]
  },
  {
   "cell_type": "code",
   "execution_count": 24,
   "metadata": {},
   "outputs": [
    {
     "data": {
      "image/png": "[encoded data removed]",
      "text/plain": [
       "<Figure size 432x288 with 1 Axes>"
      ]
     },
     "metadata": {},
     "output_type": "display_data"
    }
   ],
   "source": [
    "#Countplot for occurence of friendly fire when concussion occurs\n",
    "ax = sns.countplot(x=\"Friendly_Fire\", data=df2)"
   ]
  },
  {
   "cell_type": "code",
   "execution_count": 25,
   "metadata": {},
   "outputs": [
    {
     "data": {
      "image/png": "[encoded data removed]",
      "text/plain": [
       "<Figure size 432x288 with 1 Axes>"
      ]
     },
     "metadata": {},
     "output_type": "display_data"
    }
   ],
   "source": [
    "#Countplot for impact type by year\n",
    "ax = sns.countplot(x=\"Primary_Impact_Type\", hue=\"season\", data=df2)"
   ]
  },
  {
   "cell_type": "code",
   "execution_count": 26,
   "metadata": {},
   "outputs": [
    {
     "data": {
      "image/png": "[encoded data removed]",
      "text/plain": [
       "<Figure size 432x288 with 1 Axes>"
      ]
     },
     "metadata": {},
     "output_type": "display_data"
    }
   ],
   "source": [
    "#Countplot for player activity when concussion occurs by year\n",
    "ax = sns.countplot(x=\"Player_Activity_Derived\", hue=\"season\", data=df2)"
   ]
  },
  {
   "cell_type": "code",
   "execution_count": 27,
   "metadata": {},
   "outputs": [
    {
     "data": {
      "image/png": "[encoded data removed]",
      "text/plain": [
       "<Figure size 432x288 with 1 Axes>"
      ]
     },
     "metadata": {},
     "output_type": "display_data"
    }
   ],
   "source": [
    "#Countplot for impact type by section of season. Notice there are no concussions in the preseason\n",
    "ax = sns.countplot(x=\"Primary_Impact_Type\", hue=\"Type\", data=df2)"
   ]
  },
  {
   "cell_type": "code",
   "execution_count": 28,
   "metadata": {},
   "outputs": [
    {
     "data": {
      "image/png": "[encoded data removed]",
      "text/plain": [
       "<Figure size 432x288 with 1 Axes>"
      ]
     },
     "metadata": {},
     "output_type": "display_data"
    }
   ],
   "source": [
    "#Countplot for player activity when concussion occurs by season section\n",
    "ax = sns.countplot(x=\"Player_Activity_Derived\", hue=\"Type\", data=df2)"
   ]
  },
  {
   "cell_type": "code",
   "execution_count": 29,
   "metadata": {},
   "outputs": [
    {
     "data": {
      "image/png": "[encoded data removed]",
      "text/plain": [
       "<Figure size 432x288 with 1 Axes>"
      ]
     },
     "metadata": {},
     "output_type": "display_data"
    }
   ],
   "source": [
    "# Impact cauasing concussion by quarter of the game\n",
    "#This is interesting. What is happening after half-time?\n",
    "ax = sns.countplot(x=\"Primary_Impact_Type\", hue=\"Qtr\", data=df2)"
   ]
  },
  {
   "cell_type": "code",
   "execution_count": 30,
   "metadata": {},
   "outputs": [
    {
     "data": {
      "image/png": "[encoded data removed]",
      "text/plain": [
       "<Figure size 432x288 with 1 Axes>"
      ]
     },
     "metadata": {},
     "output_type": "display_data"
    }
   ],
   "source": [
    "x = sns.countplot(x=\"Player_Activity_Derived\", hue=\"Qtr\", data=df2)"
   ]
  },
  {
   "cell_type": "code",
   "execution_count": null,
   "metadata": {},
   "outputs": [],
   "source": []
  },
  {
   "cell_type": "code",
   "execution_count": null,
   "metadata": {},
   "outputs": [],
   "source": []
  }
 ],
 "metadata": {
  "kernelspec": {
   "display_name": "Python 3",
   "language": "python",
   "name": "python3"
  },
  "language_info": {
   "codemirror_mode": {
    "name": "ipython",
    "version": 3
   },
   "file_extension": ".py",
   "mimetype": "text/x-python",
   "name": "python",
   "nbconvert_exporter": "python",
   "pygments_lexer": "ipython3",
   "version": "3.6.5"
  }
 },
 "nbformat": 4,
 "nbformat_minor": 2
}
